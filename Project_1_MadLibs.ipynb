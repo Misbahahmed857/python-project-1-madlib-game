{
  "nbformat": 4,
  "nbformat_minor": 0,
  "metadata": {
    "colab": {
      "provenance": [],
      "authorship_tag": "ABX9TyO/Hr3kZJsaDYKX1VoDHxKL",
      "include_colab_link": true
    },
    "kernelspec": {
      "name": "python3",
      "display_name": "Python 3"
    },
    "language_info": {
      "name": "python"
    }
  },
  "cells": [
    {
      "cell_type": "markdown",
      "metadata": {
        "id": "view-in-github",
        "colab_type": "text"
      },
      "source": [
        "<a href=\"https://colab.research.google.com/github/Misbahahmed857/python-project-1-madlib-game/blob/main/Project_1_MadLibs.ipynb\" target=\"_parent\"><img src=\"https://colab.research.google.com/assets/colab-badge.svg\" alt=\"Open In Colab\"/></a>"
      ]
    },
    {
      "cell_type": "markdown",
      "source": [
        "A **Mad Libs** Python project is a fun beginner-friendly program where the user is prompted to enter words (like nouns, verbs, and adjectives), and those words are inserted into a predefined story template."
      ],
      "metadata": {
        "id": "I6eSVUIIQad-"
      }
    },
    {
      "cell_type": "markdown",
      "source": [
        "**Step 1: Learn the Basics First**\n",
        "\n",
        "Before we write the Mad Libs game, you need to understand these basic concepts:\n",
        "\n",
        "- Printing output (print())\n",
        "- Taking user input (input())\n",
        "- Using variables to store data\n",
        "- String formatting (to create sentences)\n",
        "- Conditional statements (like if-else)"
      ],
      "metadata": {
        "id": "hJnNvGBEjcoQ"
      }
    },
    {
      "cell_type": "markdown",
      "source": [
        "**Step 2: Printing and User Input**\n",
        "\n",
        "The print() function is used to display messages, and input() is used to take user input."
      ],
      "metadata": {
        "id": "5iZUDIW9kIOO"
      }
    },
    {
      "cell_type": "code",
      "execution_count": null,
      "metadata": {
        "colab": {
          "base_uri": "https://localhost:8080/"
        },
        "id": "IKC9omPaH0tP",
        "outputId": "9db876dc-dbdb-46cc-9103-733183b306e0",
        "collapsed": true
      },
      "outputs": [
        {
          "output_type": "stream",
          "name": "stdout",
          "text": [
            "Enter your name: Misbah\n",
            "Hello,Misbah! Welcome to pyhton\n"
          ]
        }
      ],
      "source": [
        "#user will enter name\n",
        "name = input(\"Enter your name: \")\n",
        "#Prints a greeting\n",
        "print(\"Hello,\" + name + \"! Welcome to pyhton\")"
      ]
    },
    {
      "cell_type": "markdown",
      "source": [
        "**Step 3: Storing Variables**\n",
        "\n",
        "You need to store words (like adjectives, nouns, verbs) in variables to use them in your Mad Libs story."
      ],
      "metadata": {
        "id": "PDwsHI4JlRhw"
      }
    },
    {
      "cell_type": "code",
      "source": [
        "adjective =input(\"Enter an adjective: \")\n",
        "noun = input(\"Enter a noun: \")\n",
        "verb = input(\"Enter a verb: \")\n",
        "adverb = input(\"Enter an adverb: \")\n",
        "place = input(\"Enter a place: \")\n",
        "\n",
        "#Displays the user input\n",
        "print(\"You entered:\",adjective,noun,verb,adverb,place)"
      ],
      "metadata": {
        "colab": {
          "base_uri": "https://localhost:8080/"
        },
        "collapsed": true,
        "id": "90e5Ph-RlFiT",
        "outputId": "1301b2a5-15d1-41e9-fda8-c6482c2d04e1"
      },
      "execution_count": null,
      "outputs": [
        {
          "output_type": "stream",
          "name": "stdout",
          "text": [
            "Enter an adjective: tall\n",
            "Enter a noun: girl\n",
            "Enter a verb: work\n",
            "Enter an adverb: quickly\n",
            "Enter a place: kitchen\n",
            "You entered: tall girl work quickly kitchen\n"
          ]
        }
      ]
    },
    {
      "cell_type": "markdown",
      "source": [
        "**Step 4: String Formatting (Making Sentences)**\n",
        "\n",
        "Instead of writing \"You entered: \" + adjective + \" \" + noun + \" \" + verb\", use f-strings (easy and clean)."
      ],
      "metadata": {
        "id": "RBEDSDGgn7CB"
      }
    },
    {
      "cell_type": "code",
      "source": [
        "story=f\"One day, a {adjective} {noun} decided to {verb} at the {place}!\"\n",
        "print(story)\n"
      ],
      "metadata": {
        "colab": {
          "base_uri": "https://localhost:8080/"
        },
        "collapsed": true,
        "id": "DDuqel2BnJJW",
        "outputId": "e201858d-98e3-40a5-b63f-03bd083c22b5"
      },
      "execution_count": null,
      "outputs": [
        {
          "output_type": "stream",
          "name": "stdout",
          "text": [
            "One day, a tall girl decided to work at the kitchen!\n"
          ]
        }
      ]
    },
    {
      "cell_type": "markdown",
      "source": [
        "**Step 5: Making It a Complete Game**\n",
        "\n",
        "Now, put everything together to create your first **Mad Libs** game!"
      ],
      "metadata": {
        "id": "suZtCdUvpMpK"
      }
    },
    {
      "cell_type": "code",
      "source": [
        "#taking user inputs\n",
        "adjective =input(\"Enter an adjective: \")\n",
        "noun = input(\"Enter a noun: \")\n",
        "verb = input(\"Enter a verb: \")\n",
        "place = input(\"Enter a place: \")\n",
        "\n",
        "#generating story\n",
        "story=f\"One day, a {adjective} {noun} decided to {verb} at the {place}!\"\n",
        "\n",
        "#printing  final story\n",
        "print(\"\\nYour Mad Libs Story:\")\n",
        "print(story)\n"
      ],
      "metadata": {
        "colab": {
          "base_uri": "https://localhost:8080/"
        },
        "collapsed": true,
        "id": "SRhDjPBhpYmy",
        "outputId": "5e0b5136-9c00-422a-fb3b-6c20bf69255b"
      },
      "execution_count": null,
      "outputs": [
        {
          "output_type": "stream",
          "name": "stdout",
          "text": [
            "Enter an adjective: tall\n",
            "Enter a noun: boy\n",
            "Enter a verb: work\n",
            "Enter a place: gym\n",
            "\n",
            "Your Mad Libs Story:\n",
            "One day, a tall boy decided to work at the gym!\n"
          ]
        }
      ]
    },
    {
      "cell_type": "markdown",
      "source": [
        "**What’s Next?**\n",
        "\n",
        "Once you understand this, we’ll move on to:\n",
        "-  Using functions (to organize your code)\n",
        "-  Using lists and random choices (to make random stories)\n",
        "- Adding translation feature (for Urdu or other languages)"
      ],
      "metadata": {
        "id": "avsDhcKHqpRt"
      }
    },
    {
      "cell_type": "markdown",
      "source": [
        " Next Concepts to Learn (For an Advanced Mad Libs Game)\n",
        "\n",
        "**1.Functions (To Organize Code)**\n",
        "\n",
        "Instead of repeating code, we can use functions to make our program cleaner."
      ],
      "metadata": {
        "id": "TIPE4Ll_weua"
      }
    },
    {
      "cell_type": "code",
      "source": [
        "# Function to get user input for a word\n",
        "def get_word(word_type):\n",
        "    return input(f\"Enter a {word_type}: \")\n",
        "\n",
        "adjective = get_word(\"adjective\")\n",
        "noun = get_word(\"noun\")\n",
        "verb = get_word(\"verb\")\n",
        "place = get_word(\"place\")\n",
        "\n",
        "story = f\"One day, a {adjective} {noun} went to the {place} to {verb}!\"\n",
        "print(story)\n"
      ],
      "metadata": {
        "colab": {
          "base_uri": "https://localhost:8080/"
        },
        "collapsed": true,
        "id": "AR6Vx0lmwGZ7",
        "outputId": "1d6b49b3-138b-49d7-acb8-dbb0d72a7866"
      },
      "execution_count": null,
      "outputs": [
        {
          "output_type": "stream",
          "name": "stdout",
          "text": [
            "Enter a adjective: tall\n",
            "Enter a noun: girl\n",
            "Enter a verb: work\n",
            "Enter a place: gym\n",
            "One day, a tall girl went to the gym to work!\n"
          ]
        }
      ]
    },
    {
      "cell_type": "markdown",
      "source": [
        " **2. Lists & Random Choice (For Auto-Generated Stories)**\n",
        "\n",
        "Instead of asking for words every time, we can let Python randomly pick words."
      ],
      "metadata": {
        "id": "tiWtexJSzh-l"
      }
    },
    {
      "cell_type": "code",
      "source": [
        " # Randomly selecting words from lists\n",
        "import random\n",
        "\n",
        "adjectives = [\"funny\", \"crazy\", \"sleepy\", \"brave\"]\n",
        "nouns = [\"monkey\", \"robot\", \"pirate\", \"cat\"]\n",
        "verbs = [\"dance\", \"jump\", \"sing\", \"run\"]\n",
        "places = [\"park\", \"jungle\", \"school\", \"space\"]\n",
        "\n",
        "story = f\"One day, a {random.choice(adjectives)} {random.choice(nouns)} went to the {random.choice(places)} to {random.choice(verbs)}!\"\n",
        "print(story)\n"
      ],
      "metadata": {
        "colab": {
          "base_uri": "https://localhost:8080/"
        },
        "collapsed": true,
        "id": "KrbLjziQzokZ",
        "outputId": "d118dce6-aba2-49b1-a1c1-902015f982f8"
      },
      "execution_count": null,
      "outputs": [
        {
          "output_type": "stream",
          "name": "stdout",
          "text": [
            "One day, a brave robot went to the park to run!\n"
          ]
        }
      ]
    },
    {
      "cell_type": "markdown",
      "source": [
        " **3. If-Else Conditions (To Let User Choose Story Type)**\n",
        "\n",
        "You can let the user choose a theme (Funny, Motivational, etc.)."
      ],
      "metadata": {
        "id": "MyVuDOEy0OLb"
      }
    },
    {
      "cell_type": "code",
      "source": [
        "# Ask the user to choose a theme\n",
        "print(\"Choose a Mad Libs theme:\")\n",
        "print(\"1 - Funny 😂\")\n",
        "print(\"2 - Motivational 💪\")\n",
        "theme = input(\"Enter your choice (1 or 2): \").lower()\n",
        "\n",
        "# Check which theme the user selected and generate the story\n",
        "if theme == \"1\":\n",
        "    print(\"This is a funny story!\")\n",
        "elif theme == \"2\":\n",
        "    print(\"This is a motivational story!\")\n",
        "else:\n",
        "    print(\"Invalid choice! Try again.\")\n"
      ],
      "metadata": {
        "colab": {
          "base_uri": "https://localhost:8080/"
        },
        "collapsed": true,
        "id": "2fVjUGU40fqf",
        "outputId": "1f30f9af-a420-4438-c5ce-87ed570a38b3"
      },
      "execution_count": null,
      "outputs": [
        {
          "output_type": "stream",
          "name": "stdout",
          "text": [
            "Choose a Mad Libs theme:\n",
            "1 - Funny 😂\n",
            "2 - Motivational 💪\n",
            "Enter your choice (1 or 2): 3\n",
            "Invalid choice! Try again.\n"
          ]
        }
      ]
    },
    {
      "cell_type": "markdown",
      "source": [
        "**4. Translating Story (For Urdu or Any Language**)\n",
        "\n",
        "if you wanted translation, so we use Google Translate API."
      ],
      "metadata": {
        "id": "SD6en1uK1n2n"
      }
    },
    {
      "cell_type": "code",
      "source": [
        "# Import the Translator class from the googletrans module\n",
        "from googletrans import Translator\n",
        "\n",
        "# Define a story in English as a string\n",
        "story = \"One day, a brave monkey danced in the jungle!\"\n",
        "\n",
        "# Create an instance of the Translator class\n",
        "translator = Translator()\n",
        "\n",
        "# Translate the English story into Urdu ('ur' is the language code for Urdu)\n",
        "urdu_story = translator.translate(story, dest=\"ur\")\n",
        "\n",
        "# Print the original English story\n",
        "print(\"English:\", story)\n",
        "\n",
        "# Print the translated Urdu story (using .text to extract the translated text)\n",
        "print(\"Urdu:\", urdu_story.text)"
      ],
      "metadata": {
        "colab": {
          "base_uri": "https://localhost:8080/"
        },
        "collapsed": true,
        "id": "agVyVHn01wF-",
        "outputId": "f0277ab5-31a0-4f3e-a422-ae3d8c36fc08"
      },
      "execution_count": null,
      "outputs": [
        {
          "output_type": "stream",
          "name": "stdout",
          "text": [
            "English: One day, a brave monkey danced in the jungle!\n",
            "Urdu: ایک دن ، ایک بہادر بندر جنگل میں رقص کیا!\n"
          ]
        }
      ]
    }
  ]
}